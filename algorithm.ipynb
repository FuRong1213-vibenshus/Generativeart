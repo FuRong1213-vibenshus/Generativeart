{
 "cells": [
  {
   "cell_type": "markdown",
   "metadata": {
    "colab_type": "text",
    "id": "view-in-github"
   },
   "source": [
    "<a href=\"https://colab.research.google.com/github/FuRong1213-vibenshus/vibenshus/blob/master/algorithm.ipynb\" target=\"_parent\"><img src=\"https://colab.research.google.com/assets/colab-badge.svg\" alt=\"Open In Colab\"/></a>"
   ]
  },
  {
   "cell_type": "markdown",
   "metadata": {
    "id": "IG7gApEGrAvV"
   },
   "source": [
    "# From Algorithm to code\n",
    "## Repetition:\n",
    "  - Algoritme:\n",
    "En metode med instrukser til at løse et problem, så et output beregnes ud fra et input. En algoritme skal altså beregne et output ud fra et input, lige som en matematisk funktion. Forskellen er, at en algoritme ydermere skal beskrive metoden til at beregne dets output.\n",
    "  - **Exercise 1**: Herunder ses et eksempel på Euklids algoritme https://da.wikipedia.org/wiki/Euklids_algoritme, som beregner den største fælles divisor af to tal. For eksempel er 14 den største fælles divisor af 70 og 252, fordi tallet går op i begge tal (divisor) og er det største af alle fælles divisorer (1, 2, 7, 14). \n"
   ]
  },
  {
   "cell_type": "code",
   "execution_count": null,
   "metadata": {
    "colab": {
     "base_uri": "https://localhost:8080/",
     "height": 133
    },
    "id": "1Rvz5z8wwbPs",
    "outputId": "59ddfdba-d79a-440c-d40b-6f7e2bef3dff"
   },
   "outputs": [
    {
     "ename": "SyntaxError",
     "evalue": "ignored",
     "output_type": "error",
     "traceback": [
      "\u001b[0;36m  File \u001b[0;32m\"<ipython-input-6-ebd27e070a9d>\"\u001b[0;36m, line \u001b[0;32m2\u001b[0m\n\u001b[0;31m    heltal euklid (positivt heltal A, positivt heltal B) {\u001b[0m\n\u001b[0m           ^\u001b[0m\n\u001b[0;31mSyntaxError\u001b[0m\u001b[0;31m:\u001b[0m invalid syntax\n"
     ]
    }
   ],
   "source": [
    "# Pseudocode\n",
    "heltal euklid (positivt heltal A, positivt heltal B) {\n",
    "    så længe (B != 0) {\n",
    "        hvis (A > B) så A ← A - B;\n",
    "        ellers B ← B - A;\n",
    "    }\n",
    "    returner A;\n",
    "}"
   ]
  },
  {
   "cell_type": "code",
   "execution_count": 10,
   "metadata": {
    "colab": {
     "base_uri": "https://localhost:8080/"
    },
    "id": "EzhYgzINyx0o",
    "outputId": "d682e180-5e79-4cd9-f49a-5c71cbdc55af"
   },
   "outputs": [
    {
     "data": {
      "text/plain": [
       "23"
      ]
     },
     "execution_count": 10,
     "metadata": {},
     "output_type": "execute_result"
    }
   ],
   "source": [
    "# Great common division\n",
    "def gcd(A, B):\n",
    "  \n",
    "  return A\n",
    "\n",
    "gcd(70, 252)"
   ]
  },
  {
   "cell_type": "markdown",
   "metadata": {
    "id": "niRwOCFQ1Gi0"
   },
   "source": [
    "- **Exercise 2 (G)**: The least common multiple (lcm) of a and b is their product divided by their greatest common divisor (gcd) ( i.e. lcm(a, b) = ab/gcd(a,b))\n",
    ". \n",
    "\n"
   ]
  },
  {
   "cell_type": "code",
   "execution_count": null,
   "metadata": {
    "id": "zSsRO6jnzmHH"
   },
   "outputs": [],
   "source": [
    "# Least Common multiple\n",
    "def lcm(A, B):\n",
    "  ## Din implementation\n",
    "  return C"
   ]
  },
  {
   "cell_type": "markdown",
   "metadata": {
    "id": "XhSJX-EewZIi"
   },
   "source": [
    "\n",
    "## Algorithmic technique:\n",
    "### Exhaustive Enumeration\n",
    "We enumerate all possibilities until we get to the right answer or exhaust the space of possibilities. \n"
   ]
  },
  {
   "cell_type": "code",
   "execution_count": null,
   "metadata": {
    "colab": {
     "base_uri": "https://localhost:8080/"
    },
    "id": "BgV4ss4Lqu6O",
    "outputId": "f073c257-6316-4f5d-995b-77cfb8bd4ffd"
   },
   "outputs": [
    {
     "name": "stdout",
     "output_type": "stream",
     "text": [
      "2\n"
     ]
    }
   ],
   "source": [
    "# Using exhaustive enumeration to find the cube root\n",
    "def find_cube_root(X):\n",
    "    ans = 0\n",
    "    while ans**3<abs(X):\n",
    "      ans = ans +1\n",
    "    if ans**3 != abs(X):\n",
    "      print(X, 'is not a perfect cube')\n",
    "      ans = None\n",
    "    else:\n",
    "      if X<0:\n",
    "        ans = -ans\n",
    "    return ans\n",
    "\n",
    "print(find_cube_root(8))"
   ]
  },
  {
   "cell_type": "markdown",
   "metadata": {
    "id": "kxqSjMMD6x67"
   },
   "source": [
    "- **Exercise 3 (G)**: Write a program that asks the user to enter an integer and prints two integers, root and pwr, such that 1 < pwr < 6 and root**pwr is equal to the integer entered by the user. if no such pair of integers exists, it should print a message to that effect "
   ]
  },
  {
   "cell_type": "code",
   "execution_count": null,
   "metadata": {
    "id": "FOBQ976-c580"
   },
   "outputs": [],
   "source": [
    "def get_root_pwr():\n",
    "  root = 1\n",
    "  pwr = 1\n",
    "  ## implementation her\n",
    "  return root, pwr"
   ]
  },
  {
   "cell_type": "markdown",
   "metadata": {
    "id": "RSOqMbob9J5O"
   },
   "source": [
    "### Approximate Solutions\n",
    "Imagine that if you are asked to write a program that finds the square root of any nonnegative number, what should you do? -- The right thing to have asked for is a program that finds an approximation to the square root -- i.e. an answer that is close enough to the actual square root to be useful. \n",
    "- ** Exercise 4 (G/Y)**:\n",
    "find the square root of non-integer\n",
    " "
   ]
  },
  {
   "cell_type": "code",
   "execution_count": null,
   "metadata": {
    "colab": {
     "base_uri": "https://localhost:8080/"
    },
    "id": "aoVscN2QDq_2",
    "outputId": "f4ceb3e8-4a43-4f2c-cbfb-b9f4b2debad7"
   },
   "outputs": [
    {
     "name": "stdout",
     "output_type": "stream",
     "text": [
      "4.47213595500161\n"
     ]
    }
   ],
   "source": [
    "def findRoot(x, epsilon):\n",
    "  \"\"\"input:    \n",
    "          x: whose the square root is desired\n",
    "          epsilon: the maximum difference between X and root.\n",
    "     output:   \n",
    "          root: the correct square root of X.\n",
    "     1. N<-X.\n",
    "     2. root = 0.5 * (X + (N / X)) \n",
    "        where N is any guess which can be assumed to be N or 1. \n",
    "     3. Check for the difference between the assumed X and calculated root, \n",
    "        if not yet inside tolerance then update root and continue. \n",
    "     4. Return the root \n",
    "  \"\"\"\n",
    "  n = x\n",
    "  root = 1\n",
    "  while (1) :\n",
    "    # your implementation\n",
    "    break\n",
    "  return root\n",
    "\n",
    "print(findRoot(20, 0.0001))\n"
   ]
  },
  {
   "cell_type": "markdown",
   "metadata": {
    "id": "kMYitWXLFtaF"
   },
   "source": [
    "### Recursion\n",
    "https://programmering.systime.dk/?id=242\n"
   ]
  },
  {
   "cell_type": "code",
   "execution_count": 11,
   "metadata": {
    "colab": {
     "base_uri": "https://localhost:8080/"
    },
    "id": "n12VXqX5vzlX",
    "outputId": "338cbdc2-f1d7-4a84-f7ad-b503cc451e0d"
   },
   "outputs": [
    {
     "name": "stdout",
     "output_type": "stream",
     "text": [
      "(Bent () Else () Erna (Lotte (Hugo () Harald () ) ) ) \n",
      "Bent: True\n",
      "Hugo: True\n",
      "Jesper: False\n"
     ]
    }
   ],
   "source": [
    "class Node(object):\n",
    "    def __init__(self, data):\n",
    "        self.data = data\n",
    "        self.children = []\n",
    "\n",
    "    def addChild(self, obj):\n",
    "        self.children.append(obj)\n",
    "\n",
    "    def displayDescendants(self):\n",
    "        print('(', end='')\n",
    "        for c in self.children:\n",
    "            # Grundlæggende tilfælde\n",
    "            print(c.data + ' ', end='')\n",
    "            # Rekursivt tilfælde\n",
    "            c.displayDescendants()\n",
    "        print(') ', end='')\n",
    "\n",
    "    def isAncestorOf(self, item):\n",
    "        for c in self.children:\n",
    "            # Grundlæggende tilfælde\n",
    "            if c.data == item: return True\n",
    "            # Rekursivt tilfælde\n",
    "            elif c.isAncestorOf(item): return True\n",
    "        return False\n",
    "\n",
    "esther = Node(\"Esther\")\n",
    "esther.addChild(Node(\"Bent\"))\n",
    "esther.addChild(Node(\"Else\"))\n",
    "erna = Node(\"Erna\")\n",
    "esther.addChild(erna)\n",
    "lotte = Node(\"Lotte\")\n",
    "erna.addChild(lotte)\n",
    "lotte.addChild(Node(\"Hugo\"))\n",
    "lotte.addChild(Node(\"Harald\"))\n",
    "esther.displayDescendants()\n",
    "print()\n",
    "print(\"Bent: \" + str(esther.isAncestorOf(\"Bent\")))\n",
    "print(\"Hugo: \" + str(esther.isAncestorOf(\"Hugo\")))\n",
    "print(\"Jesper: \" + str(esther.isAncestorOf(\"Jesper\")))"
   ]
  },
  {
   "cell_type": "markdown",
   "metadata": {
    "id": "OwRpYpqI3Wk2"
   },
   "source": [
    "### Binary Tree ###\n",
    "A binary Search Tree is a node-based binary tree data structure which has the following properties:  \n",
    "\n",
    "- The left subtree of a node contains only nodes with keys lesser than the node’s key.\n",
    "- The right subtree of a node contains only nodes with keys greater than the node’s key.\n",
    "- The left and right subtree each must also be a binary search tree. \n",
    "- There must be no duplicate nodes."
   ]
  },
  {
   "cell_type": "markdown",
   "metadata": {
    "id": "f5VDOYrx-Rk9"
   },
   "source": [
    "- **Exercise(G)** A palindrome is a word, number, phrase, or other sequence of symbols that reads the same backwards as forwards, such as the words madam or racecar, the date and time 12/21/33 12:21, and the sentence: \"A man, a plan, a canal – Panama\". \n"
   ]
  },
  {
   "cell_type": "code",
   "execution_count": 5,
   "metadata": {},
   "outputs": [
    {
     "name": "stdout",
     "output_type": "stream",
     "text": [
      "Collecting mobilechelonian\n",
      "  Downloading mobilechelonian-0.5-py2.py3-none-any.whl (94 kB)\n",
      "     ---------------------------------------- 94.5/94.5 kB 1.3 MB/s eta 0:00:00\n",
      "Requirement already satisfied: IPython in c:\\users\\rf\\anaconda3\\lib\\site-packages (from mobilechelonian) (8.4.0)\n",
      "Requirement already satisfied: ipywidgets>=7.0.0 in c:\\users\\rf\\anaconda3\\lib\\site-packages (from mobilechelonian) (7.6.5)\n",
      "Requirement already satisfied: widgetsnbextension~=3.5.0 in c:\\users\\rf\\anaconda3\\lib\\site-packages (from ipywidgets>=7.0.0->mobilechelonian) (3.5.2)\n",
      "Requirement already satisfied: nbformat>=4.2.0 in c:\\users\\rf\\anaconda3\\lib\\site-packages (from ipywidgets>=7.0.0->mobilechelonian) (5.5.0)\n",
      "Requirement already satisfied: traitlets>=4.3.1 in c:\\users\\rf\\anaconda3\\lib\\site-packages (from ipywidgets>=7.0.0->mobilechelonian) (5.1.1)\n",
      "Requirement already satisfied: jupyterlab-widgets>=1.0.0 in c:\\users\\rf\\anaconda3\\lib\\site-packages (from ipywidgets>=7.0.0->mobilechelonian) (1.0.0)\n",
      "Requirement already satisfied: ipykernel>=4.5.1 in c:\\users\\rf\\anaconda3\\lib\\site-packages (from ipywidgets>=7.0.0->mobilechelonian) (6.15.2)\n",
      "Requirement already satisfied: ipython-genutils~=0.2.0 in c:\\users\\rf\\anaconda3\\lib\\site-packages (from ipywidgets>=7.0.0->mobilechelonian) (0.2.0)\n",
      "Requirement already satisfied: pygments>=2.4.0 in c:\\users\\rf\\anaconda3\\lib\\site-packages (from IPython->mobilechelonian) (2.11.2)\n",
      "Requirement already satisfied: setuptools>=18.5 in c:\\users\\rf\\anaconda3\\lib\\site-packages (from IPython->mobilechelonian) (65.5.0)\n",
      "Requirement already satisfied: decorator in c:\\users\\rf\\anaconda3\\lib\\site-packages (from IPython->mobilechelonian) (5.1.1)\n",
      "Requirement already satisfied: stack-data in c:\\users\\rf\\anaconda3\\lib\\site-packages (from IPython->mobilechelonian) (0.2.0)\n",
      "Requirement already satisfied: prompt-toolkit!=3.0.0,!=3.0.1,<3.1.0,>=2.0.0 in c:\\users\\rf\\anaconda3\\lib\\site-packages (from IPython->mobilechelonian) (3.0.20)\n",
      "Requirement already satisfied: colorama in c:\\users\\rf\\anaconda3\\lib\\site-packages (from IPython->mobilechelonian) (0.4.6)\n",
      "Requirement already satisfied: jedi>=0.16 in c:\\users\\rf\\anaconda3\\lib\\site-packages (from IPython->mobilechelonian) (0.18.1)\n",
      "Requirement already satisfied: pickleshare in c:\\users\\rf\\anaconda3\\lib\\site-packages (from IPython->mobilechelonian) (0.7.5)\n",
      "Requirement already satisfied: matplotlib-inline in c:\\users\\rf\\anaconda3\\lib\\site-packages (from IPython->mobilechelonian) (0.1.6)\n",
      "Requirement already satisfied: backcall in c:\\users\\rf\\anaconda3\\lib\\site-packages (from IPython->mobilechelonian) (0.2.0)\n",
      "Requirement already satisfied: packaging in c:\\users\\rf\\anaconda3\\lib\\site-packages (from ipykernel>=4.5.1->ipywidgets>=7.0.0->mobilechelonian) (21.3)\n",
      "Requirement already satisfied: tornado>=6.1 in c:\\users\\rf\\anaconda3\\lib\\site-packages (from ipykernel>=4.5.1->ipywidgets>=7.0.0->mobilechelonian) (6.1)\n",
      "Requirement already satisfied: nest-asyncio in c:\\users\\rf\\anaconda3\\lib\\site-packages (from ipykernel>=4.5.1->ipywidgets>=7.0.0->mobilechelonian) (1.5.5)\n",
      "Requirement already satisfied: jupyter-client>=6.1.12 in c:\\users\\rf\\anaconda3\\lib\\site-packages (from ipykernel>=4.5.1->ipywidgets>=7.0.0->mobilechelonian) (6.1.12)\n",
      "Requirement already satisfied: psutil in c:\\users\\rf\\anaconda3\\lib\\site-packages (from ipykernel>=4.5.1->ipywidgets>=7.0.0->mobilechelonian) (5.9.0)\n",
      "Requirement already satisfied: pyzmq>=17 in c:\\users\\rf\\anaconda3\\lib\\site-packages (from ipykernel>=4.5.1->ipywidgets>=7.0.0->mobilechelonian) (23.2.0)\n",
      "Requirement already satisfied: debugpy>=1.0 in c:\\users\\rf\\anaconda3\\lib\\site-packages (from ipykernel>=4.5.1->ipywidgets>=7.0.0->mobilechelonian) (1.5.1)\n",
      "Requirement already satisfied: parso<0.9.0,>=0.8.0 in c:\\users\\rf\\anaconda3\\lib\\site-packages (from jedi>=0.16->IPython->mobilechelonian) (0.8.3)\n",
      "Requirement already satisfied: jupyter_core in c:\\users\\rf\\anaconda3\\lib\\site-packages (from nbformat>=4.2.0->ipywidgets>=7.0.0->mobilechelonian) (4.11.1)\n",
      "Requirement already satisfied: fastjsonschema in c:\\users\\rf\\anaconda3\\lib\\site-packages (from nbformat>=4.2.0->ipywidgets>=7.0.0->mobilechelonian) (2.16.2)\n",
      "Requirement already satisfied: jsonschema>=2.6 in c:\\users\\rf\\anaconda3\\lib\\site-packages (from nbformat>=4.2.0->ipywidgets>=7.0.0->mobilechelonian) (4.16.0)\n",
      "Requirement already satisfied: wcwidth in c:\\users\\rf\\anaconda3\\lib\\site-packages (from prompt-toolkit!=3.0.0,!=3.0.1,<3.1.0,>=2.0.0->IPython->mobilechelonian) (0.2.5)\n",
      "Requirement already satisfied: notebook>=4.4.1 in c:\\users\\rf\\anaconda3\\lib\\site-packages (from widgetsnbextension~=3.5.0->ipywidgets>=7.0.0->mobilechelonian) (6.4.12)\n",
      "Requirement already satisfied: pure-eval in c:\\users\\rf\\anaconda3\\lib\\site-packages (from stack-data->IPython->mobilechelonian) (0.2.2)\n",
      "Requirement already satisfied: executing in c:\\users\\rf\\anaconda3\\lib\\site-packages (from stack-data->IPython->mobilechelonian) (0.8.3)\n",
      "Requirement already satisfied: asttokens in c:\\users\\rf\\anaconda3\\lib\\site-packages (from stack-data->IPython->mobilechelonian) (2.0.5)\n",
      "Requirement already satisfied: pyrsistent!=0.17.0,!=0.17.1,!=0.17.2,>=0.14.0 in c:\\users\\rf\\anaconda3\\lib\\site-packages (from jsonschema>=2.6->nbformat>=4.2.0->ipywidgets>=7.0.0->mobilechelonian) (0.18.0)\n",
      "Requirement already satisfied: attrs>=17.4.0 in c:\\users\\rf\\anaconda3\\lib\\site-packages (from jsonschema>=2.6->nbformat>=4.2.0->ipywidgets>=7.0.0->mobilechelonian) (21.4.0)\n",
      "Requirement already satisfied: python-dateutil>=2.1 in c:\\users\\rf\\anaconda3\\lib\\site-packages (from jupyter-client>=6.1.12->ipykernel>=4.5.1->ipywidgets>=7.0.0->mobilechelonian) (2.8.2)\n",
      "Requirement already satisfied: pywin32>=1.0 in c:\\users\\rf\\anaconda3\\lib\\site-packages (from jupyter_core->nbformat>=4.2.0->ipywidgets>=7.0.0->mobilechelonian) (302)\n",
      "Requirement already satisfied: nbconvert>=5 in c:\\users\\rf\\anaconda3\\lib\\site-packages (from notebook>=4.4.1->widgetsnbextension~=3.5.0->ipywidgets>=7.0.0->mobilechelonian) (6.4.4)\n",
      "Requirement already satisfied: prometheus-client in c:\\users\\rf\\anaconda3\\lib\\site-packages (from notebook>=4.4.1->widgetsnbextension~=3.5.0->ipywidgets>=7.0.0->mobilechelonian) (0.14.1)\n",
      "Requirement already satisfied: Send2Trash>=1.8.0 in c:\\users\\rf\\anaconda3\\lib\\site-packages (from notebook>=4.4.1->widgetsnbextension~=3.5.0->ipywidgets>=7.0.0->mobilechelonian) (1.8.0)\n",
      "Requirement already satisfied: argon2-cffi in c:\\users\\rf\\anaconda3\\lib\\site-packages (from notebook>=4.4.1->widgetsnbextension~=3.5.0->ipywidgets>=7.0.0->mobilechelonian) (21.3.0)\n",
      "Requirement already satisfied: terminado>=0.8.3 in c:\\users\\rf\\anaconda3\\lib\\site-packages (from notebook>=4.4.1->widgetsnbextension~=3.5.0->ipywidgets>=7.0.0->mobilechelonian) (0.13.1)\n",
      "Requirement already satisfied: jinja2 in c:\\users\\rf\\anaconda3\\lib\\site-packages (from notebook>=4.4.1->widgetsnbextension~=3.5.0->ipywidgets>=7.0.0->mobilechelonian) (2.11.3)\n",
      "Requirement already satisfied: six in c:\\users\\rf\\anaconda3\\lib\\site-packages (from asttokens->stack-data->IPython->mobilechelonian) (1.16.0)\n",
      "Requirement already satisfied: pyparsing!=3.0.5,>=2.0.2 in c:\\users\\rf\\anaconda3\\lib\\site-packages (from packaging->ipykernel>=4.5.1->ipywidgets>=7.0.0->mobilechelonian) (3.0.9)\n",
      "Requirement already satisfied: jupyterlab-pygments in c:\\users\\rf\\anaconda3\\lib\\site-packages (from nbconvert>=5->notebook>=4.4.1->widgetsnbextension~=3.5.0->ipywidgets>=7.0.0->mobilechelonian) (0.1.2)\n",
      "Requirement already satisfied: testpath in c:\\users\\rf\\anaconda3\\lib\\site-packages (from nbconvert>=5->notebook>=4.4.1->widgetsnbextension~=3.5.0->ipywidgets>=7.0.0->mobilechelonian) (0.6.0)\n",
      "Requirement already satisfied: defusedxml in c:\\users\\rf\\anaconda3\\lib\\site-packages (from nbconvert>=5->notebook>=4.4.1->widgetsnbextension~=3.5.0->ipywidgets>=7.0.0->mobilechelonian) (0.7.1)\n",
      "Requirement already satisfied: beautifulsoup4 in c:\\users\\rf\\anaconda3\\lib\\site-packages (from nbconvert>=5->notebook>=4.4.1->widgetsnbextension~=3.5.0->ipywidgets>=7.0.0->mobilechelonian) (4.11.1)\n",
      "Requirement already satisfied: entrypoints>=0.2.2 in c:\\users\\rf\\anaconda3\\lib\\site-packages (from nbconvert>=5->notebook>=4.4.1->widgetsnbextension~=3.5.0->ipywidgets>=7.0.0->mobilechelonian) (0.4)\n",
      "Requirement already satisfied: bleach in c:\\users\\rf\\anaconda3\\lib\\site-packages (from nbconvert>=5->notebook>=4.4.1->widgetsnbextension~=3.5.0->ipywidgets>=7.0.0->mobilechelonian) (4.1.0)\n",
      "Requirement already satisfied: pandocfilters>=1.4.1 in c:\\users\\rf\\anaconda3\\lib\\site-packages (from nbconvert>=5->notebook>=4.4.1->widgetsnbextension~=3.5.0->ipywidgets>=7.0.0->mobilechelonian) (1.5.0)\n",
      "Requirement already satisfied: mistune<2,>=0.8.1 in c:\\users\\rf\\anaconda3\\lib\\site-packages (from nbconvert>=5->notebook>=4.4.1->widgetsnbextension~=3.5.0->ipywidgets>=7.0.0->mobilechelonian) (0.8.4)\n",
      "Requirement already satisfied: nbclient<0.6.0,>=0.5.0 in c:\\users\\rf\\anaconda3\\lib\\site-packages (from nbconvert>=5->notebook>=4.4.1->widgetsnbextension~=3.5.0->ipywidgets>=7.0.0->mobilechelonian) (0.5.13)\n",
      "Requirement already satisfied: MarkupSafe>=0.23 in c:\\users\\rf\\anaconda3\\lib\\site-packages (from jinja2->notebook>=4.4.1->widgetsnbextension~=3.5.0->ipywidgets>=7.0.0->mobilechelonian) (2.0.1)\n",
      "Requirement already satisfied: pywinpty>=1.1.0 in c:\\users\\rf\\anaconda3\\lib\\site-packages (from terminado>=0.8.3->notebook>=4.4.1->widgetsnbextension~=3.5.0->ipywidgets>=7.0.0->mobilechelonian) (2.0.2)\n",
      "Requirement already satisfied: argon2-cffi-bindings in c:\\users\\rf\\anaconda3\\lib\\site-packages (from argon2-cffi->notebook>=4.4.1->widgetsnbextension~=3.5.0->ipywidgets>=7.0.0->mobilechelonian) (21.2.0)\n",
      "Requirement already satisfied: cffi>=1.0.1 in c:\\users\\rf\\anaconda3\\lib\\site-packages (from argon2-cffi-bindings->argon2-cffi->notebook>=4.4.1->widgetsnbextension~=3.5.0->ipywidgets>=7.0.0->mobilechelonian) (1.15.1)\n",
      "Requirement already satisfied: soupsieve>1.2 in c:\\users\\rf\\anaconda3\\lib\\site-packages (from beautifulsoup4->nbconvert>=5->notebook>=4.4.1->widgetsnbextension~=3.5.0->ipywidgets>=7.0.0->mobilechelonian) (2.3.2.post1)\n",
      "Requirement already satisfied: webencodings in c:\\users\\rf\\anaconda3\\lib\\site-packages (from bleach->nbconvert>=5->notebook>=4.4.1->widgetsnbextension~=3.5.0->ipywidgets>=7.0.0->mobilechelonian) (0.5.1)\n",
      "Requirement already satisfied: pycparser in c:\\users\\rf\\anaconda3\\lib\\site-packages (from cffi>=1.0.1->argon2-cffi-bindings->argon2-cffi->notebook>=4.4.1->widgetsnbextension~=3.5.0->ipywidgets>=7.0.0->mobilechelonian) (2.21)\n",
      "Installing collected packages: mobilechelonian\n",
      "Successfully installed mobilechelonian-0.5\n",
      "Note: you may need to restart the kernel to use updated packages.\n"
     ]
    }
   ],
   "source": [
    "%pip install mobilechelonian"
   ]
  },
  {
   "cell_type": "code",
   "execution_count": 4,
   "metadata": {
    "colab": {
     "base_uri": "https://localhost:8080/"
    },
    "id": "DiTQ9wVZ1SbY",
    "outputId": "9fe2c9a9-922e-431c-f42b-01e5d5e8b408"
   },
   "outputs": [
    {
     "ename": "AttributeError",
     "evalue": "'Turtle' object has no attribute 'pos'",
     "output_type": "error",
     "traceback": [
      "\u001b[1;31m---------------------------------------------------------------------------\u001b[0m",
      "\u001b[1;31mAttributeError\u001b[0m                            Traceback (most recent call last)",
      "Input \u001b[1;32mIn [4]\u001b[0m, in \u001b[0;36m<cell line: 6>\u001b[1;34m()\u001b[0m\n\u001b[0;32m      6\u001b[0m     t\u001b[38;5;241m.\u001b[39mforward(\u001b[38;5;241m200\u001b[39m)\n\u001b[0;32m      7\u001b[0m     t\u001b[38;5;241m.\u001b[39mleft(\u001b[38;5;241m170\u001b[39m)\n\u001b[1;32m----> 8\u001b[0m     \u001b[38;5;28;01mif\u001b[39;00m \u001b[38;5;28mabs\u001b[39m(\u001b[43mt\u001b[49m\u001b[38;5;241;43m.\u001b[39;49m\u001b[43mpos\u001b[49m()) \u001b[38;5;241m<\u001b[39m \u001b[38;5;241m1\u001b[39m:\n\u001b[0;32m      9\u001b[0m         \u001b[38;5;28;01mbreak\u001b[39;00m\n\u001b[0;32m     10\u001b[0m t\u001b[38;5;241m.\u001b[39mend_fill()\n",
      "\u001b[1;31mAttributeError\u001b[0m: 'Turtle' object has no attribute 'pos'"
     ]
    }
   ],
   "source": [
    "from ipyturtle import Turtle\n",
    "t = Turtle()\n",
    "t.pencolor('red')\n",
    "#t.begin_fill()\n",
    "while True:\n",
    "    t.forward(200)\n",
    "    t.left(170)\n",
    "    if abs(t.pos()) < 1:\n",
    "        break\n",
    "t.end_fill()\n",
    "t.done()"
   ]
  },
  {
   "cell_type": "code",
   "execution_count": 5,
   "metadata": {},
   "outputs": [
    {
     "name": "stdout",
     "output_type": "stream",
     "text": [
      "Help on class Turtle in module ipyturtle.example:\n",
      "\n",
      "class Turtle(ipywidgets.widgets.domwidget.DOMWidget)\n",
      " |  Turtle(width=320, height=320, fixed=True)\n",
      " |  \n",
      " |  Method resolution order:\n",
      " |      Turtle\n",
      " |      ipywidgets.widgets.domwidget.DOMWidget\n",
      " |      ipywidgets.widgets.widget.Widget\n",
      " |      ipywidgets.widgets.widget.LoggingHasTraits\n",
      " |      traitlets.traitlets.HasTraits\n",
      " |      traitlets.traitlets.HasDescriptors\n",
      " |      builtins.object\n",
      " |  \n",
      " |  Methods defined here:\n",
      " |  \n",
      " |  __init__(self, width=320, height=320, fixed=True)\n",
      " |      Public constructor\n",
      " |  \n",
      " |  back(self, length)\n",
      " |  \n",
      " |  forward(self, length)\n",
      " |  \n",
      " |  heading(self)\n",
      " |  \n",
      " |  hideturtle(self)\n",
      " |  \n",
      " |  isdown(self)\n",
      " |  \n",
      " |  isvisible(self)\n",
      " |  \n",
      " |  left(self, degree)\n",
      " |  \n",
      " |  pencolor(self, r=-1, g=-1, b=-1)\n",
      " |  \n",
      " |  pendown(self)\n",
      " |  \n",
      " |  penup(self)\n",
      " |  \n",
      " |  position(self)\n",
      " |  \n",
      " |  reset(self)\n",
      " |  \n",
      " |  right(self, degree)\n",
      " |  \n",
      " |  showturtle(self)\n",
      " |  \n",
      " |  ----------------------------------------------------------------------\n",
      " |  Methods inherited from ipywidgets.widgets.domwidget.DOMWidget:\n",
      " |  \n",
      " |  add_class(self, className)\n",
      " |      Adds a class to the top level element of the widget.\n",
      " |      \n",
      " |      Doesn't add the class if it already exists.\n",
      " |  \n",
      " |  remove_class(self, className)\n",
      " |      Removes a class from the top level element of the widget.\n",
      " |      \n",
      " |      Doesn't remove the class if it doesn't exist.\n",
      " |  \n",
      " |  ----------------------------------------------------------------------\n",
      " |  Data descriptors inherited from ipywidgets.widgets.domwidget.DOMWidget:\n",
      " |  \n",
      " |  layout\n",
      " |  \n",
      " |  ----------------------------------------------------------------------\n",
      " |  Methods inherited from ipywidgets.widgets.widget.Widget:\n",
      " |  \n",
      " |  __del__(self)\n",
      " |      Object disposal\n",
      " |  \n",
      " |  __repr__(self)\n",
      " |      Return repr(self).\n",
      " |  \n",
      " |  add_traits(self, **traits)\n",
      " |      Dynamically add trait attributes to the Widget.\n",
      " |  \n",
      " |  close(self)\n",
      " |      Close method.\n",
      " |      \n",
      " |      Closes the underlying comm.\n",
      " |      When the comm is closed, all of the widget views are automatically\n",
      " |      removed from the front-end.\n",
      " |  \n",
      " |  get_state(self, key=None, drop_defaults=False)\n",
      " |      Gets the widget state, or a piece of it.\n",
      " |      \n",
      " |      Parameters\n",
      " |      ----------\n",
      " |      key : unicode or iterable (optional)\n",
      " |          A single property's name or iterable of property names to get.\n",
      " |      \n",
      " |      Returns\n",
      " |      -------\n",
      " |      state : dict of states\n",
      " |      metadata : dict\n",
      " |          metadata for each field: {key: metadata}\n",
      " |  \n",
      " |  get_view_spec(self)\n",
      " |  \n",
      " |  hold_sync(self)\n",
      " |      Hold syncing any state until the outermost context manager exits\n",
      " |  \n",
      " |  notify_change(self, change)\n",
      " |      Called when a property has changed.\n",
      " |  \n",
      " |  on_displayed(self, callback, remove=False)\n",
      " |      (Un)Register a widget displayed callback.\n",
      " |      \n",
      " |      Parameters\n",
      " |      ----------\n",
      " |      callback: method handler\n",
      " |          Must have a signature of::\n",
      " |      \n",
      " |              callback(widget, **kwargs)\n",
      " |      \n",
      " |          kwargs from display are passed through without modification.\n",
      " |      remove: bool\n",
      " |          True if the callback should be unregistered.\n",
      " |  \n",
      " |  on_msg(self, callback, remove=False)\n",
      " |      (Un)Register a custom msg receive callback.\n",
      " |      \n",
      " |      Parameters\n",
      " |      ----------\n",
      " |      callback: callable\n",
      " |          callback will be passed three arguments when a message arrives::\n",
      " |      \n",
      " |              callback(widget, content, buffers)\n",
      " |      \n",
      " |      remove: bool\n",
      " |          True if the callback should be unregistered.\n",
      " |  \n",
      " |  open(self)\n",
      " |      Open a comm to the frontend if one isn't already open.\n",
      " |  \n",
      " |  send(self, content, buffers=None)\n",
      " |      Sends a custom msg to the widget model in the front-end.\n",
      " |      \n",
      " |      Parameters\n",
      " |      ----------\n",
      " |      content : dict\n",
      " |          Content of the message to send.\n",
      " |      buffers : list of binary buffers\n",
      " |          Binary buffers to send with message\n",
      " |  \n",
      " |  send_state(self, key=None)\n",
      " |      Sends the widget state, or a piece of it, to the front-end, if it exists.\n",
      " |      \n",
      " |      Parameters\n",
      " |      ----------\n",
      " |      key : unicode, or iterable (optional)\n",
      " |          A single property's name or iterable of property names to sync with the front-end.\n",
      " |  \n",
      " |  set_state(self, sync_data)\n",
      " |      Called when a state is received from the front-end.\n",
      " |  \n",
      " |  ----------------------------------------------------------------------\n",
      " |  Class methods inherited from ipywidgets.widgets.widget.Widget:\n",
      " |  \n",
      " |  close_all() from traitlets.traitlets.MetaHasTraits\n",
      " |  \n",
      " |  ----------------------------------------------------------------------\n",
      " |  Static methods inherited from ipywidgets.widgets.widget.Widget:\n",
      " |  \n",
      " |  get_manager_state(drop_defaults=False, widgets=None)\n",
      " |      Returns the full state for a widget manager for embedding\n",
      " |      \n",
      " |      :param drop_defaults: when True, it will not include default value\n",
      " |      :param widgets: list with widgets to include in the state (or all widgets when None)\n",
      " |      :return:\n",
      " |  \n",
      " |  handle_comm_opened(comm, msg)\n",
      " |      Static method, called when a widget is constructed.\n",
      " |  \n",
      " |  on_widget_constructed(callback)\n",
      " |      Registers a callback to be called when a widget is constructed.\n",
      " |      \n",
      " |      The callback must have the following signature:\n",
      " |      callback(widget)\n",
      " |  \n",
      " |  ----------------------------------------------------------------------\n",
      " |  Readonly properties inherited from ipywidgets.widgets.widget.Widget:\n",
      " |  \n",
      " |  model_id\n",
      " |      Gets the model id of this widget.\n",
      " |      \n",
      " |      If a Comm doesn't exist yet, a Comm will be created automagically.\n",
      " |  \n",
      " |  ----------------------------------------------------------------------\n",
      " |  Data descriptors inherited from ipywidgets.widgets.widget.Widget:\n",
      " |  \n",
      " |  comm\n",
      " |  \n",
      " |  keys\n",
      " |  \n",
      " |  ----------------------------------------------------------------------\n",
      " |  Data and other attributes inherited from ipywidgets.widgets.widget.Widget:\n",
      " |  \n",
      " |  widget_types = <ipywidgets.widgets.widget.WidgetRegistry object>\n",
      " |  \n",
      " |  widgets = {'071d3cc2c30f4da89d2fb05de9218bd8': Turtle(), '168688ac4716...\n",
      " |  \n",
      " |  ----------------------------------------------------------------------\n",
      " |  Data descriptors inherited from ipywidgets.widgets.widget.LoggingHasTraits:\n",
      " |  \n",
      " |  log\n",
      " |  \n",
      " |  ----------------------------------------------------------------------\n",
      " |  Methods inherited from traitlets.traitlets.HasTraits:\n",
      " |  \n",
      " |  __getstate__(self)\n",
      " |  \n",
      " |  __setstate__(self, state)\n",
      " |  \n",
      " |  has_trait(self, name)\n",
      " |      Returns True if the object has a trait with the specified name.\n",
      " |  \n",
      " |  hold_trait_notifications(self)\n",
      " |      Context manager for bundling trait change notifications and cross\n",
      " |      validation.\n",
      " |      \n",
      " |      Use this when doing multiple trait assignments (init, config), to avoid\n",
      " |      race conditions in trait notifiers requesting other trait values.\n",
      " |      All trait notifications will fire after all values have been assigned.\n",
      " |  \n",
      " |  observe(self, handler, names=traitlets.All, type='change')\n",
      " |      Setup a handler to be called when a trait changes.\n",
      " |      \n",
      " |      This is used to setup dynamic notifications of trait changes.\n",
      " |      \n",
      " |      Parameters\n",
      " |      ----------\n",
      " |      handler : callable\n",
      " |          A callable that is called when a trait changes. Its\n",
      " |          signature should be ``handler(change)``, where ``change`` is a\n",
      " |          dictionary. The change dictionary at least holds a 'type' key.\n",
      " |          * ``type``: the type of notification.\n",
      " |          Other keys may be passed depending on the value of 'type'. In the\n",
      " |          case where type is 'change', we also have the following keys:\n",
      " |          * ``owner`` : the HasTraits instance\n",
      " |          * ``old`` : the old value of the modified trait attribute\n",
      " |          * ``new`` : the new value of the modified trait attribute\n",
      " |          * ``name`` : the name of the modified trait attribute.\n",
      " |      names : list, str, All\n",
      " |          If names is All, the handler will apply to all traits.  If a list\n",
      " |          of str, handler will apply to all names in the list.  If a\n",
      " |          str, the handler will apply just to that name.\n",
      " |      type : str, All (default: 'change')\n",
      " |          The type of notification to filter by. If equal to All, then all\n",
      " |          notifications are passed to the observe handler.\n",
      " |  \n",
      " |  on_trait_change(self, handler=None, name=None, remove=False)\n",
      " |      DEPRECATED: Setup a handler to be called when a trait changes.\n",
      " |      \n",
      " |      This is used to setup dynamic notifications of trait changes.\n",
      " |      \n",
      " |      Static handlers can be created by creating methods on a HasTraits\n",
      " |      subclass with the naming convention '_[traitname]_changed'.  Thus,\n",
      " |      to create static handler for the trait 'a', create the method\n",
      " |      _a_changed(self, name, old, new) (fewer arguments can be used, see\n",
      " |      below).\n",
      " |      \n",
      " |      If `remove` is True and `handler` is not specified, all change\n",
      " |      handlers for the specified name are uninstalled.\n",
      " |      \n",
      " |      Parameters\n",
      " |      ----------\n",
      " |      handler : callable, None\n",
      " |          A callable that is called when a trait changes.  Its\n",
      " |          signature can be handler(), handler(name), handler(name, new),\n",
      " |          handler(name, old, new), or handler(name, old, new, self).\n",
      " |      name : list, str, None\n",
      " |          If None, the handler will apply to all traits.  If a list\n",
      " |          of str, handler will apply to all names in the list.  If a\n",
      " |          str, the handler will apply just to that name.\n",
      " |      remove : bool\n",
      " |          If False (the default), then install the handler.  If True\n",
      " |          then unintall it.\n",
      " |  \n",
      " |  set_trait(self, name, value)\n",
      " |      Forcibly sets trait attribute, including read-only attributes.\n",
      " |  \n",
      " |  setup_instance(*args, **kwargs)\n",
      " |      This is called **before** self.__init__ is called.\n",
      " |  \n",
      " |  trait_defaults(self, *names, **metadata)\n",
      " |      Return a trait's default value or a dictionary of them\n",
      " |      \n",
      " |      Notes\n",
      " |      -----\n",
      " |      Dynamically generated default values may\n",
      " |      depend on the current state of the object.\n",
      " |  \n",
      " |  trait_has_value(self, name)\n",
      " |      Returns True if the specified trait has a value.\n",
      " |      \n",
      " |      This will return false even if ``getattr`` would return a\n",
      " |      dynamically generated default value. These default values\n",
      " |      will be recognized as existing only after they have been\n",
      " |      generated.\n",
      " |      \n",
      " |      Example\n",
      " |      \n",
      " |      .. code-block:: python\n",
      " |      \n",
      " |          class MyClass(HasTraits):\n",
      " |              i = Int()\n",
      " |      \n",
      " |          mc = MyClass()\n",
      " |          assert not mc.trait_has_value(\"i\")\n",
      " |          mc.i # generates a default value\n",
      " |          assert mc.trait_has_value(\"i\")\n",
      " |  \n",
      " |  trait_metadata(self, traitname, key, default=None)\n",
      " |      Get metadata values for trait by key.\n",
      " |  \n",
      " |  trait_names(self, **metadata)\n",
      " |      Get a list of all the names of this class' traits.\n",
      " |  \n",
      " |  trait_values(self, **metadata)\n",
      " |      A ``dict`` of trait names and their values.\n",
      " |      \n",
      " |      The metadata kwargs allow functions to be passed in which\n",
      " |      filter traits based on metadata values.  The functions should\n",
      " |      take a single value as an argument and return a boolean.  If\n",
      " |      any function returns False, then the trait is not included in\n",
      " |      the output.  If a metadata key doesn't exist, None will be passed\n",
      " |      to the function.\n",
      " |      \n",
      " |      Returns\n",
      " |      -------\n",
      " |      A ``dict`` of trait names and their values.\n",
      " |      \n",
      " |      Notes\n",
      " |      -----\n",
      " |      Trait values are retrieved via ``getattr``, any exceptions raised\n",
      " |      by traits or the operations they may trigger will result in the\n",
      " |      absence of a trait value in the result ``dict``.\n",
      " |  \n",
      " |  traits(self, **metadata)\n",
      " |      Get a ``dict`` of all the traits of this class.  The dictionary\n",
      " |      is keyed on the name and the values are the TraitType objects.\n",
      " |      \n",
      " |      The TraitTypes returned don't know anything about the values\n",
      " |      that the various HasTrait's instances are holding.\n",
      " |      \n",
      " |      The metadata kwargs allow functions to be passed in which\n",
      " |      filter traits based on metadata values.  The functions should\n",
      " |      take a single value as an argument and return a boolean.  If\n",
      " |      any function returns False, then the trait is not included in\n",
      " |      the output.  If a metadata key doesn't exist, None will be passed\n",
      " |      to the function.\n",
      " |  \n",
      " |  unobserve(self, handler, names=traitlets.All, type='change')\n",
      " |      Remove a trait change handler.\n",
      " |      \n",
      " |      This is used to unregister handlers to trait change notifications.\n",
      " |      \n",
      " |      Parameters\n",
      " |      ----------\n",
      " |      handler : callable\n",
      " |          The callable called when a trait attribute changes.\n",
      " |      names : list, str, All (default: All)\n",
      " |          The names of the traits for which the specified handler should be\n",
      " |          uninstalled. If names is All, the specified handler is uninstalled\n",
      " |          from the list of notifiers corresponding to all changes.\n",
      " |      type : str or All (default: 'change')\n",
      " |          The type of notification to filter by. If All, the specified handler\n",
      " |          is uninstalled from the list of notifiers corresponding to all types.\n",
      " |  \n",
      " |  unobserve_all(self, name=traitlets.All)\n",
      " |      Remove trait change handlers of any type for the specified name.\n",
      " |      If name is not specified, removes all trait notifiers.\n",
      " |  \n",
      " |  ----------------------------------------------------------------------\n",
      " |  Class methods inherited from traitlets.traitlets.HasTraits:\n",
      " |  \n",
      " |  class_own_trait_events(name) from traitlets.traitlets.MetaHasTraits\n",
      " |      Get a dict of all event handlers defined on this class, not a parent.\n",
      " |      \n",
      " |      Works like ``event_handlers``, except for excluding traits from parents.\n",
      " |  \n",
      " |  class_own_traits(**metadata) from traitlets.traitlets.MetaHasTraits\n",
      " |      Get a dict of all the traitlets defined on this class, not a parent.\n",
      " |      \n",
      " |      Works like `class_traits`, except for excluding traits from parents.\n",
      " |  \n",
      " |  class_trait_names(**metadata) from traitlets.traitlets.MetaHasTraits\n",
      " |      Get a list of all the names of this class' traits.\n",
      " |      \n",
      " |      This method is just like the :meth:`trait_names` method,\n",
      " |      but is unbound.\n",
      " |  \n",
      " |  class_traits(**metadata) from traitlets.traitlets.MetaHasTraits\n",
      " |      Get a ``dict`` of all the traits of this class.  The dictionary\n",
      " |      is keyed on the name and the values are the TraitType objects.\n",
      " |      \n",
      " |      This method is just like the :meth:`traits` method, but is unbound.\n",
      " |      \n",
      " |      The TraitTypes returned don't know anything about the values\n",
      " |      that the various HasTrait's instances are holding.\n",
      " |      \n",
      " |      The metadata kwargs allow functions to be passed in which\n",
      " |      filter traits based on metadata values.  The functions should\n",
      " |      take a single value as an argument and return a boolean.  If\n",
      " |      any function returns False, then the trait is not included in\n",
      " |      the output.  If a metadata key doesn't exist, None will be passed\n",
      " |      to the function.\n",
      " |  \n",
      " |  trait_events(name=None) from traitlets.traitlets.MetaHasTraits\n",
      " |      Get a ``dict`` of all the event handlers of this class.\n",
      " |      \n",
      " |      Parameters\n",
      " |      ----------\n",
      " |      name : str (default: None)\n",
      " |          The name of a trait of this class. If name is ``None`` then all\n",
      " |          the event handlers of this class will be returned instead.\n",
      " |      \n",
      " |      Returns\n",
      " |      -------\n",
      " |      The event handlers associated with a trait name, or all event handlers.\n",
      " |  \n",
      " |  ----------------------------------------------------------------------\n",
      " |  Readonly properties inherited from traitlets.traitlets.HasTraits:\n",
      " |  \n",
      " |  cross_validation_lock\n",
      " |      A contextmanager for running a block with our cross validation lock set\n",
      " |      to True.\n",
      " |      \n",
      " |      At the end of the block, the lock's value is restored to its value\n",
      " |      prior to entering the block.\n",
      " |  \n",
      " |  ----------------------------------------------------------------------\n",
      " |  Static methods inherited from traitlets.traitlets.HasDescriptors:\n",
      " |  \n",
      " |  __new__(*args, **kwargs)\n",
      " |      Create and return a new object.  See help(type) for accurate signature.\n",
      " |  \n",
      " |  ----------------------------------------------------------------------\n",
      " |  Data descriptors inherited from traitlets.traitlets.HasDescriptors:\n",
      " |  \n",
      " |  __dict__\n",
      " |      dictionary for instance variables (if defined)\n",
      " |  \n",
      " |  __weakref__\n",
      " |      list of weak references to the object (if defined)\n",
      "\n"
     ]
    }
   ],
   "source": [
    "help(Turtle)"
   ]
  },
  {
   "cell_type": "code",
   "execution_count": null,
   "metadata": {},
   "outputs": [],
   "source": []
  }
 ],
 "metadata": {
  "colab": {
   "authorship_tag": "ABX9TyMQ1P7iwOjyNY79efENkB5i",
   "include_colab_link": true,
   "provenance": []
  },
  "kernelspec": {
   "display_name": "Python 3 (ipykernel)",
   "language": "python",
   "name": "python3"
  },
  "language_info": {
   "codemirror_mode": {
    "name": "ipython",
    "version": 3
   },
   "file_extension": ".py",
   "mimetype": "text/x-python",
   "name": "python",
   "nbconvert_exporter": "python",
   "pygments_lexer": "ipython3",
   "version": "3.9.13"
  },
  "vscode": {
   "interpreter": {
    "hash": "4b18ff9e223cafbbe040b07115946483b62b3d76b6e5877ada2a230580d0bfae"
   }
  }
 },
 "nbformat": 4,
 "nbformat_minor": 1
}
